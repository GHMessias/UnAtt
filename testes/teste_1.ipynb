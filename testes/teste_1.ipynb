{
 "cells": [
  {
   "cell_type": "code",
   "execution_count": 1,
   "id": "0c1f87ef",
   "metadata": {},
   "outputs": [],
   "source": [
    "import sys\n",
    "import os\n",
    "\n",
    "# Caminho do diretório pai em relação ao diretório atual\n",
    "parent_dir = os.path.abspath(os.path.join(os.getcwd(), \"..\"))\n",
    "\n",
    "# Adiciona ao sys.path\n",
    "sys.path.append(parent_dir)\n",
    "\n",
    "from graphgen_models.UnAtt.func import *\n",
    "import torch\n",
    "import torch_geometric.datasets as datasets\n",
    "from utils.utils import count_hetero_edges, split_edge_index_by_label, get_data\n",
    "\n",
    "from graphgen_models.UnAtt.model import *\n",
    "\n",
    "from torch_geometric.datasets import Planetoid\n",
    "\n",
    "data_to_mimic = Planetoid(root = '../datasets', name = 'Cora')[0]"
   ]
  },
  {
   "cell_type": "code",
   "execution_count": 4,
   "id": "b0f7e521",
   "metadata": {},
   "outputs": [
    {
     "name": "stdout",
     "output_type": "stream",
     "text": [
      "[UnAtt] Init (mimic): k=7, sizes=[351, 217, 418, 818, 426, 298, 180]\n",
      "534 edges to be added to cluster 0\n",
      "\n",
      "409 edges to be added to cluster 1\n",
      "\n",
      "827 edges to be added to cluster 2\n",
      "\n",
      "1175 edges to be added to cluster 3\n",
      "\n",
      "660 edges to be added to cluster 4\n",
      "\n",
      "417 edges to be added to cluster 5\n",
      "\n",
      "253 edges to be added to cluster 6\n",
      "\n"
     ]
    }
   ],
   "source": [
    "# n = 2 * torch.unique(data_to_mimic.y, return_counts=True)[1]\n",
    "n = 0\n",
    "\n",
    "g = unatt(data_to_mimic=data_to_mimic, number_of_nodes=n)\n",
    "\n",
    "g.edge_generation()"
   ]
  },
  {
   "cell_type": "code",
   "execution_count": 6,
   "id": "5ee119f1",
   "metadata": {},
   "outputs": [
    {
     "name": "stdout",
     "output_type": "stream",
     "text": [
      "original edges for label 0 1790\n",
      "original nodes for label 0 748\n",
      "original edges for label 0 534\n",
      "original nodes for label 0 329\n",
      "original edges for label 1 1664\n",
      "original nodes for label 1 464\n",
      "original edges for label 1 409\n",
      "original nodes for label 1 196\n",
      "original edges for label 2 3261\n",
      "original nodes for label 2 881\n",
      "original edges for label 2 827\n",
      "original nodes for label 2 410\n",
      "original edges for label 3 5006\n",
      "original nodes for label 3 1547\n",
      "original edges for label 3 1175\n",
      "original nodes for label 3 767\n",
      "original edges for label 4 2422\n",
      "original nodes for label 4 820\n",
      "original edges for label 4 660\n",
      "original nodes for label 4 400\n",
      "original edges for label 5 1817\n",
      "original nodes for label 5 667\n",
      "original edges for label 5 417\n",
      "original nodes for label 5 279\n",
      "original edges for label 6 886\n",
      "original nodes for label 6 289\n",
      "original edges for label 6 253\n",
      "original nodes for label 6 170\n"
     ]
    }
   ],
   "source": [
    "# (tensor([0, 1, 2, 3, 4, 5, 6]), tensor([351, 217, 418, 818, 426, 298, 180]))\n",
    "import networkx as nx\n",
    "for label in range(7):\n",
    "    G = nx.read_gml(f'../datasets/GenCAT/Planetoid:Cora_n_2_m_2/gmls/Planetoid:Cora_{label}.gml')\n",
    "\n",
    "    print(f'original edges for label {label}', G.number_of_edges())\n",
    "    print(f'original nodes for label {label}', G.number_of_nodes())\n",
    "\n",
    "    G = nx.read_gml(f'../datasets/Cora/gmls/Planetoid:Cora_{label}.gml')\n",
    "\n",
    "    # print(f'generated edges for label {label}', len(split_edge_index_by_label(g.whole_graph_edge_index, g.y)[label][0]))\n",
    "    # print(f'generated nodes for label {label}', g.number_of_nodes[label].item())\n",
    "    print(f'original edges for label {label}', G.number_of_edges())\n",
    "    print(f'original nodes for label {label}', G.number_of_nodes())"
   ]
  },
  {
   "cell_type": "code",
   "execution_count": 6,
   "id": "3d8ff801",
   "metadata": {},
   "outputs": [
    {
     "data": {
      "text/plain": [
       "tensor([351, 217, 418, 818, 426, 298, 180])"
      ]
     },
     "execution_count": 6,
     "metadata": {},
     "output_type": "execute_result"
    }
   ],
   "source": [
    "g.number_of_nodes"
   ]
  },
  {
   "cell_type": "code",
   "execution_count": 7,
   "id": "b713c67e",
   "metadata": {},
   "outputs": [
    {
     "data": {
      "text/plain": [
       "(tensor([0, 1, 2, 3, 4, 5, 6]), tensor([351, 217, 418, 818, 426, 298, 180]))"
      ]
     },
     "execution_count": 7,
     "metadata": {},
     "output_type": "execute_result"
    }
   ],
   "source": [
    "torch.unique(data_to_mimic.y, return_counts=True)"
   ]
  },
  {
   "cell_type": "code",
   "execution_count": 8,
   "id": "071a1deb",
   "metadata": {},
   "outputs": [
    {
     "data": {
      "text/plain": [
       "506"
      ]
     },
     "execution_count": 8,
     "metadata": {},
     "output_type": "execute_result"
    }
   ],
   "source": [
    "len(split_edge_index_by_label(g.whole_graph_edge_index, g.y)[6][0])"
   ]
  },
  {
   "cell_type": "code",
   "execution_count": 9,
   "id": "65d564d5",
   "metadata": {},
   "outputs": [
    {
     "data": {
      "text/plain": [
       "tensor([0.0015, 0.0029, 0.0044, 0.0058, 0.0073, 0.0087, 0.0102, 0.0117, 0.0131,\n",
       "        0.0219, 0.0408])"
      ]
     },
     "execution_count": 9,
     "metadata": {},
     "output_type": "execute_result"
    }
   ],
   "source": [
    "torch.unique(g.pdf_distributions[6])"
   ]
  },
  {
   "cell_type": "code",
   "execution_count": 10,
   "id": "09fbd348",
   "metadata": {},
   "outputs": [
    {
     "data": {
      "text/plain": [
       "351"
      ]
     },
     "execution_count": 10,
     "metadata": {},
     "output_type": "execute_result"
    }
   ],
   "source": [
    "len(g.pdf_distributions[0])"
   ]
  },
  {
   "cell_type": "code",
   "execution_count": 11,
   "id": "a8e15923",
   "metadata": {},
   "outputs": [
    {
     "data": {
      "text/plain": [
       "tensor(351, dtype=torch.int32)"
      ]
     },
     "execution_count": 11,
     "metadata": {},
     "output_type": "execute_result"
    }
   ],
   "source": [
    "g.nodes[1][0]"
   ]
  },
  {
   "cell_type": "code",
   "execution_count": 12,
   "id": "fd266c5b",
   "metadata": {},
   "outputs": [
    {
     "data": {
      "text/plain": [
       "tensor(1.)"
      ]
     },
     "execution_count": 12,
     "metadata": {},
     "output_type": "execute_result"
    }
   ],
   "source": [
    "sum(g.noise_class_distribution)"
   ]
  }
 ],
 "metadata": {
  "kernelspec": {
   "display_name": "venv (3.12.3)",
   "language": "python",
   "name": "python3"
  },
  "language_info": {
   "codemirror_mode": {
    "name": "ipython",
    "version": 3
   },
   "file_extension": ".py",
   "mimetype": "text/x-python",
   "name": "python",
   "nbconvert_exporter": "python",
   "pygments_lexer": "ipython3",
   "version": "3.12.3"
  }
 },
 "nbformat": 4,
 "nbformat_minor": 5
}
