{
 "cells": [
  {
   "cell_type": "code",
   "execution_count": 18,
   "id": "61e2b3a1",
   "metadata": {},
   "outputs": [],
   "source": [
    "import igraph as ig"
   ]
  },
  {
   "cell_type": "code",
   "execution_count": 25,
   "id": "8924638e",
   "metadata": {},
   "outputs": [],
   "source": [
    "def bipartite(g, fp=None):\n",
    "    \"\"\" Check whether the graph g is bipartite.\n",
    "\n",
    "    Input:\n",
    "        g               igraph object, graph to be checked\n",
    "        fp              string, path to gml file\n",
    "\n",
    "    Output:\n",
    "        df_entry        int or string, 0 means not bipartite, 1 means bipartite\n",
    "                        'error' means the gml file is not structured correctly\n",
    "\n",
    "    \"\"\"\n",
    "    if g.is_bipartite():\n",
    "        if 'type' in g.vs.attributes():\n",
    "            if len(set(g.vs['type'])) > 1:\n",
    "                df_entry = 1\n",
    "            else:\n",
    "                df_entry = 0\n",
    "        else:\n",
    "            if fp:\n",
    "                errormessage = \"%s is bipartite and has no attribute 'type'\\n\" %fp\n",
    "                # known = False\n",
    "                # f = open(errorfp, 'a+')\n",
    "                # f.seek(0)\n",
    "                # for line in f:\n",
    "                #     if line == errormessage:\n",
    "                #         known = True\n",
    "                # if not known:\n",
    "                #     f.write(errormessage)\n",
    "                # f.close()\n",
    "                df_entry = 'error'\n",
    "                print(errormessage)\n",
    "            else:\n",
    "                print('oi2')\n",
    "                df_entry = 0\n",
    "    else:\n",
    "        print('oi')\n",
    "        df_entry = 0\n",
    "    return df_entry\n"
   ]
  },
  {
   "cell_type": "code",
   "execution_count": 26,
   "id": "293e85b0",
   "metadata": {},
   "outputs": [],
   "source": [
    "path = '/home/gui-messias/Desktop/UnAtt/datasets/SkyMap/Planetoid:Cora_n_0_m_0/gmls/Planetoid:Cora_complete.gml'\n",
    "\n",
    "g = ig.read(path)"
   ]
  },
  {
   "cell_type": "code",
   "execution_count": 27,
   "id": "5127536c",
   "metadata": {},
   "outputs": [
    {
     "data": {
      "text/plain": [
       "True"
      ]
     },
     "execution_count": 27,
     "metadata": {},
     "output_type": "execute_result"
    }
   ],
   "source": [
    "g.is_bipartite()"
   ]
  },
  {
   "cell_type": "code",
   "execution_count": 28,
   "id": "394389d9",
   "metadata": {},
   "outputs": [
    {
     "name": "stdout",
     "output_type": "stream",
     "text": [
      "/home/gui-messias/Desktop/UnAtt/datasets/SkyMap/Planetoid:Cora_n_0_m_0/gmls/Planetoid:Cora_complete.gml is bipartite and has no attribute 'type'\n",
      "\n"
     ]
    },
    {
     "data": {
      "text/plain": [
       "'error'"
      ]
     },
     "execution_count": 28,
     "metadata": {},
     "output_type": "execute_result"
    }
   ],
   "source": [
    "bipartite(g, fp = path)"
   ]
  },
  {
   "cell_type": "code",
   "execution_count": null,
   "id": "0c1f87ef",
   "metadata": {},
   "outputs": [],
   "source": []
  }
 ],
 "metadata": {
  "kernelspec": {
   "display_name": "venv (3.12.3)",
   "language": "python",
   "name": "python3"
  },
  "language_info": {
   "codemirror_mode": {
    "name": "ipython",
    "version": 3
   },
   "file_extension": ".py",
   "mimetype": "text/x-python",
   "name": "python",
   "nbconvert_exporter": "python",
   "pygments_lexer": "ipython3",
   "version": "3.12.3"
  }
 },
 "nbformat": 4,
 "nbformat_minor": 5
}
